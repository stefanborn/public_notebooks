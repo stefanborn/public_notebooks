{
 "cells": [
  {
   "cell_type": "markdown",
   "metadata": {
    "collapsed": true
   },
   "source": [
    "Variablen und Typen I\n",
    "============\n",
    "\n",
    "Übersicht\n",
    "----------\n",
    "\n",
    "Python kennt eine Reihe von einfachen Datentypen:\n",
    "\n",
    "Für Zahlen:\n",
    "\n",
    "- float [64 Bit- Fließkommazahlen, größter Betrag=1.7976931348623157e+308, kleinster Betrag 2.2250738585072014e-308]\n",
    "- int [beliebig große ganze Zahlen (begrenzt durch den Arbeitsspeicher)] (**Achtung:** dieser Typ besteht in Python 2 aus zwei Untertypen, einem Typ mit festgelegtem Speicherplatz und einem anderen (long) für beliebig große Zahlen. Beim Rechnen merkt man davon nichts.)\n",
    "- complex [komplexe Zahlen, Real- und Imaginärteil sind float]\n",
    "\n",
    "Für Zeichenketten (Strings):\n",
    "\n",
    "- str\n",
    "\n",
    "Für Wahrheitswerte:\n",
    "\n",
    "- bool  \n",
    "\n",
    "\n",
    "Zahlen\n",
    "-------\n",
    "\n",
    "Zahlen können direkt auf verschiedene Weisen angegeben werden ('numeric literals'):\n"
   ]
  },
  {
   "cell_type": "code",
   "execution_count": null,
   "metadata": {},
   "outputs": [],
   "source": [
    "type(233243512432132131324532443543533333333333333333333333333333345435435)"
   ]
  },
  {
   "cell_type": "code",
   "execution_count": null,
   "metadata": {},
   "outputs": [],
   "source": [
    "type(123312321321321)"
   ]
  },
  {
   "cell_type": "code",
   "execution_count": null,
   "metadata": {},
   "outputs": [],
   "source": [
    "-1.323123"
   ]
  },
  {
   "cell_type": "code",
   "execution_count": null,
   "metadata": {},
   "outputs": [],
   "source": [
    "type(-1.323123)"
   ]
  },
  {
   "cell_type": "code",
   "execution_count": null,
   "metadata": {},
   "outputs": [],
   "source": [
    "1+2j"
   ]
  },
  {
   "cell_type": "code",
   "execution_count": null,
   "metadata": {},
   "outputs": [],
   "source": [
    "type(1+2.5j)"
   ]
  },
  {
   "cell_type": "code",
   "execution_count": null,
   "metadata": {},
   "outputs": [],
   "source": [
    "(1+1j)**8"
   ]
  },
  {
   "cell_type": "markdown",
   "metadata": {},
   "source": [
    "Schreibt man den Buchstaben 'j' im Anschluss an eine Dezimalzahl (float oder int), so wird das interpretiert als das Produkt dieser Zahl mit der imaginären Einheit i. 2+3.5j ist also  die komplexe Zahl mit Realteil 2 und Imaginärteil 3.\n",
    "\n",
    "Durch die Funktion `type( ... )` erfährt man den Typ von ... :"
   ]
  },
  {
   "cell_type": "code",
   "execution_count": null,
   "metadata": {},
   "outputs": [],
   "source": [
    "type(1+2.5j)"
   ]
  },
  {
   "cell_type": "markdown",
   "metadata": {},
   "source": [
    "Ganze Zahlen kann man außer im Dezimalsystem auch im Octal, Binär- oder Hexadezimalsystem angeben:\n"
   ]
  },
  {
   "cell_type": "code",
   "execution_count": null,
   "metadata": {},
   "outputs": [],
   "source": [
    "0xff"
   ]
  },
  {
   "cell_type": "code",
   "execution_count": null,
   "metadata": {},
   "outputs": [],
   "source": [
    "0b11111111"
   ]
  },
  {
   "cell_type": "code",
   "execution_count": null,
   "metadata": {},
   "outputs": [],
   "source": [
    "0o377"
   ]
  },
  {
   "cell_type": "markdown",
   "metadata": {},
   "source": [
    "Zeichenketten (Strings)\n",
    "-------------------------\n",
    "\n",
    "Eine Zeichenkette kann durch Einfache Anführungszeichen '...' oder doppelte \n",
    "Anführungszeichen \"...\" eingeschlossen werden. Passt eine solche Zeichenkette\n",
    "nicht in eine Zeile, so lässt sich ** - wie stets in Python - ** durch einen\n",
    "Backslash \\ die Zeile in die folgende Zeile verlängern. Die über mehrere Zeilen\n",
    "verteilten Langzeilen werden vom Interpreter anschließend wieder aneinander\n",
    "gehängt, dabei werden die \\ wieder entfernt.\n",
    "\n",
    "Für wirklich merhzeiligen Text gibt es noch eine praktischere Variante,\n",
    "dreifache Anführungszeichen am Anfang und am Ende. Die Zeilenumbrüche\n",
    "werden in dieser Variante Teil der Zeichenkette.\n",
    "\n",
    "Meistens nennen ich Zeichenketten Strings, weil es kürzer ist."
   ]
  },
  {
   "cell_type": "code",
   "execution_count": null,
   "metadata": {},
   "outputs": [],
   "source": [
    "'sdfadsfsdf ewrwer324 32423 AASASD__.,sdf'"
   ]
  },
  {
   "cell_type": "code",
   "execution_count": null,
   "metadata": {},
   "outputs": [],
   "source": [
    "\"Katze\""
   ]
  },
  {
   "cell_type": "code",
   "execution_count": null,
   "metadata": {},
   "outputs": [],
   "source": [
    "'K\\\n",
    "a\\\n",
    "t\\\n",
    "ze'"
   ]
  },
  {
   "cell_type": "code",
   "execution_count": null,
   "metadata": {},
   "outputs": [],
   "source": [
    "\"\"\"Sehr geehrter Herr Müller,\n",
    "\n",
    "mir reicht's.\"\"\""
   ]
  },
  {
   "cell_type": "code",
   "execution_count": null,
   "metadata": {},
   "outputs": [],
   "source": [
    "print(\"\"\"Sehr geehrter Herr Müller,\n",
    "\n",
    "mir reicht's.\"\"\")"
   ]
  },
  {
   "cell_type": "markdown",
   "metadata": {},
   "source": [
    "Variablen\n",
    "----------\n",
    "\n",
    "Durch das Gleich-Zeichen `=` wird eine **Zuweisung** vorgenommen.  Auf der linken Seite steht der Name einer Variable auf der rechten Seite ein Ausdruck, der ein Objekt irgendeines Typs liefert, zum Beispiel eine Dezimalzahl. Eine Zuweisung ist *keine mathematische Gleichung*, denn Gleichungen kann man umstellen, Zuweisungen nicht."
   ]
  },
  {
   "cell_type": "code",
   "execution_count": null,
   "metadata": {},
   "outputs": [],
   "source": [
    "a"
   ]
  },
  {
   "cell_type": "code",
   "execution_count": null,
   "metadata": {},
   "outputs": [],
   "source": [
    "#  c: float a = 54....\n",
    "\n",
    "a = 54.432432"
   ]
  },
  {
   "cell_type": "code",
   "execution_count": null,
   "metadata": {},
   "outputs": [],
   "source": [
    "a"
   ]
  },
  {
   "cell_type": "code",
   "execution_count": null,
   "metadata": {},
   "outputs": [],
   "source": [
    "type(a)"
   ]
  },
  {
   "cell_type": "code",
   "execution_count": null,
   "metadata": {},
   "outputs": [],
   "source": [
    "b = 324324324"
   ]
  },
  {
   "cell_type": "code",
   "execution_count": null,
   "metadata": {},
   "outputs": [],
   "source": [
    "type(b)"
   ]
  },
  {
   "cell_type": "code",
   "execution_count": null,
   "metadata": {},
   "outputs": [],
   "source": [
    "a"
   ]
  },
  {
   "cell_type": "code",
   "execution_count": null,
   "metadata": {},
   "outputs": [],
   "source": [
    "b"
   ]
  },
  {
   "cell_type": "code",
   "execution_count": null,
   "metadata": {},
   "outputs": [],
   "source": [
    "b = 234324324.234324"
   ]
  },
  {
   "cell_type": "code",
   "execution_count": null,
   "metadata": {},
   "outputs": [],
   "source": []
  },
  {
   "cell_type": "code",
   "execution_count": null,
   "metadata": {},
   "outputs": [],
   "source": [
    "type(b)"
   ]
  },
  {
   "cell_type": "code",
   "execution_count": null,
   "metadata": {},
   "outputs": [],
   "source": [
    "b = 2*b\n",
    "print(b)"
   ]
  },
  {
   "cell_type": "code",
   "execution_count": null,
   "metadata": {},
   "outputs": [],
   "source": [
    "type(b)"
   ]
  },
  {
   "cell_type": "code",
   "execution_count": null,
   "metadata": {},
   "outputs": [],
   "source": [
    "b = 'Katamaran'"
   ]
  },
  {
   "cell_type": "code",
   "execution_count": null,
   "metadata": {},
   "outputs": [],
   "source": [
    "type(b)"
   ]
  },
  {
   "cell_type": "markdown",
   "metadata": {
    "collapsed": true
   },
   "source": [
    "Wenn eine Variable **neu zugewiesen wird**, verliert sie die Verbindung zu dem früheren Objekt. Das wird (falls es nicht anderweitig benutzt wird) gelöscht.\n",
    "\n",
    "Als Variablennamen kommen Zeichenketten aus Großbuchstaben, Kleinbuchstaben, \\_ und Zahlen in Frage, am Anfang darf aber keine Zahl stehen.  Großbuchstaben und Kleinbuchstaben werden unterschieden.  `katze` und `Katze` wären also verschiedene Variablennamen. \n",
    "\n",
    "Wählen Sie in Programmen die Variablennamen systematisch und lesbar; im Idealfall sagt die Variable, wozu sie dient.\n",
    "\n",
    "Beachten Sie außerdem nach Möglichkeiten Benennungskonventionen für Variablen: Sie sollten mit einem Kleinbuchstaben beginnen (im Gegensatz zu den Namen von Klassen, wie wir später bekommen). Vermeiden Sie deutsche Sonderbuchstaben (ä,ö,ü,ß). Konstanten,  also Variablen, die nicht verändert werden sollen, sollten Namen aus Großbuchstaben haben."
   ]
  },
  {
   "cell_type": "code",
   "execution_count": null,
   "metadata": {},
   "outputs": [],
   "source": [
    "katze = 5\n",
    "Katze = 3"
   ]
  },
  {
   "cell_type": "code",
   "execution_count": null,
   "metadata": {},
   "outputs": [],
   "source": [
    "katze"
   ]
  },
  {
   "cell_type": "code",
   "execution_count": null,
   "metadata": {},
   "outputs": [],
   "source": [
    "Katze"
   ]
  },
  {
   "cell_type": "code",
   "execution_count": null,
   "metadata": {},
   "outputs": [],
   "source": [
    "laenge = 2.123213\n",
    "breite = 3.42421\n",
    "flaeche = laenge * breite\n",
    "print(flaeche)"
   ]
  },
  {
   "cell_type": "code",
   "execution_count": null,
   "metadata": {},
   "outputs": [],
   "source": []
  },
  {
   "cell_type": "markdown",
   "metadata": {},
   "source": [
    "Ausgaben und Eingaben\n",
    "-----------------------\n",
    "\n",
    "Ein Programm muss Daten einlesen und Ergebnisse ausgeben können. \n",
    "\n",
    "## print\n",
    "\n",
    "An dieser Stelle soll nur das Allernötigste gesagt werden.\n",
    "\n",
    "\n",
    "**Python 3:** Hier müssen Klammern um die auszugebenden Ausdrücke stehen, `print(...)` ist eine **Funktion**. Also:\n",
    "\n",
    "    print(a,b,213213)\n",
    "\n",
    "\n",
    "\n",
    "\n",
    "**Python 2:** Das print-Statement gibt die folgenden Ausdrücke in einer lesbaren\n",
    "Form aus, z.B.\n",
    "\n",
    "    print a,b, 213213\n",
    "\n",
    "gibt den Inhalt der Variablen a, b , sowie die Dezimalzahl 213213 aus.\n",
    "\n",
    "\n",
    "\n",
    "Will man in Python 2.7 dasselbe Verhalten wie Python 3 erreichen, so lässt sich an den Anfang des\n",
    "Programms\n",
    "(oder am Anfang der interaktiven Sitzung) schreiben:\n",
    "\n",
    "    from __future__ import print_function   \n",
    "    \n",
    "## input\n",
    "\n",
    "**Python 3:**  Die Funktion `input(...)` erlaubt, in einem Programm den Benutzer um eine Tastatureingabe zu bitten, die mit\n",
    "der Eingabetaste abzuschließen ist. Sie liefert stets eine Zeichenkette, die dann erst in einem zweiten Schritt in eine Zahl oder etwas anderes umgewandelt werden kann.\n",
    "\n",
    "    s=raw_input('Geben Sie ein Zahl zwischen 1 und 10 ein:')\n",
    "    zahl=int(s)\n",
    "    \n",
    "Um eine Zeichenkette in ein `float` umzuwandeln, heißt die entsprechende Funktion `float`, entsprechend für `complex`. Umgekehrt können Zahlen mit der Funktion `str` in Strings umgewandelt werden . Darüber später noch etwas mehr.\n",
    "\n",
    "\n",
    "**Python 2:** In Python 2 leistet die Funktion `raw_input` dasselbe.\n",
    "\n",
    "    s=raw_input('Geben Sie eine Zahl ein: ')\n",
    "    zahl=int(s)\n",
    "\n",
    "Die Funktion `input` tut in Python 2 etwas **Gefährliches**, sie interpretiert die Eingabe als Python-Code. Auch hier kann dafür gesorgt werden, dass sich Python 2 wie Python 3 verhält und zwar durch den Import:\n",
    "\n",
    "    from future.builtins import input\n",
    "    \n",
    "    "
   ]
  },
  {
   "cell_type": "code",
   "execution_count": null,
   "metadata": {},
   "outputs": [],
   "source": [
    "# Wenn Sie dieses Notebook mit einem Python 3-Kernel laufen lassen, ersetzen Sie 'raw_input' durch\n",
    "# 'input'\n",
    "\n",
    "s = input(\"Geben Sie etwas ein:\")"
   ]
  },
  {
   "cell_type": "code",
   "execution_count": null,
   "metadata": {},
   "outputs": [],
   "source": [
    "s"
   ]
  },
  {
   "cell_type": "code",
   "execution_count": null,
   "metadata": {},
   "outputs": [],
   "source": [
    "# Probieren Sie, falls Sie in Python 2 sind, aus, dass 'input' Formeln interpretiert.\n",
    "x = eval(input(\"Geben Sie einen gueltigen Python-Ausdruck ein :\"))\n",
    "print(x)"
   ]
  },
  {
   "cell_type": "markdown",
   "metadata": {},
   "source": [
    "**Aufgabe: ** Schreiben Sie ein Programm, dass die Eingabe einer Zahl verlangt und anschließen die Zahl, ihr Quadrat und ihre dritte Potenz ausgibt."
   ]
  },
  {
   "cell_type": "code",
   "execution_count": null,
   "metadata": {},
   "outputs": [],
   "source": []
  },
  {
   "cell_type": "code",
   "execution_count": null,
   "metadata": {},
   "outputs": [],
   "source": [
    "s = input(\"Geben Sie einen Text ein:\")\n",
    "print(\"Was bedeutet \", s, \"?\")\n",
    "print(\"Typ der Eingabe: \", type(s))"
   ]
  },
  {
   "cell_type": "code",
   "execution_count": null,
   "metadata": {},
   "outputs": [],
   "source": [
    "s = input('Geben Sie eine Zahl ein:')\n",
    "print(type(s))\n",
    "zahl = int(s)\n",
    "print(zahl, type(zahl))"
   ]
  },
  {
   "cell_type": "code",
   "execution_count": null,
   "metadata": {},
   "outputs": [],
   "source": [
    "s = '''Sehr geehrter Herr Meier,\n",
    "\n",
    "ich kündige.\n",
    "\n",
    "Ihr \n",
    "\n",
    "S.'''"
   ]
  },
  {
   "cell_type": "code",
   "execution_count": null,
   "metadata": {},
   "outputs": [],
   "source": [
    "s"
   ]
  },
  {
   "cell_type": "code",
   "execution_count": null,
   "metadata": {},
   "outputs": [],
   "source": [
    "print(s)"
   ]
  },
  {
   "cell_type": "markdown",
   "metadata": {},
   "source": [
    "**Aufgabe:** Schreiben Sie ein kleines Programm, das um die Eingabe eines Worts bittet und dieses anschließend dreimal ausgibt."
   ]
  },
  {
   "cell_type": "markdown",
   "metadata": {},
   "source": [
    "Rechenoperationen mit Zahlen\n",
    "-------------------------------\n",
    "\n",
    "Sie können die üblichen Grundrechenarten, darüber hinaus `**` für die Potenz benutzen. Der Typ der Ergebnisse solcher Rechenoperationen hängt vom Typ der beteiligten Zahlen ab, Operationen aus float und int liefern float, aus complex und einem der anderen liefert complex.  Sie können Klammern ( ) benutzen.\n",
    "\n",
    "**Unterschied Python 2/3**: Die Division ist in Python 3 so definiert, dass das Ergebnis der Division zweier ganzer Zahlen ein float ist. Python 2 dagegen ließ die Division zwischen Zahlen desselben Typs ein Ergebnis desselben Typs liefern. Für die Division zweier ganzer Zahlen a und b liefert es die durch Abrunden entstehende nächste ganze Zahl. Man kann in Python 2 aber dasselbe Verhalten wie in Python 3 erreichen, und zwar durch:\n",
    "\n",
    "    from __future__ import division\n",
    "    \n",
    "\n",
    "## Prioritäten:\n",
    "\n",
    "- Geklammerte Ausdrücke werden zuerst berechnet, innere Klammern vor äußeren.\n",
    "- 'Punkt vor Strich':  /,\\* kommt vor +,-\n",
    "\n",
    "## Weitere Operationen\n",
    "\n",
    "Wichtig ist noch die Division mit Rest //, bzw. der Rest bei dieser Division ('modulo') %, der sowohl für ganze Zahlen (mit ganzzahligem Ergebnis) als auch für Fließkommazahlen (mit float als Ergebnis) definiert ist:\n",
    "\n",
    "     >>> 7//3\n",
    "     2\n",
    "     >>> 7%3\n",
    "     1\n",
    "     \n",
    "Für ganze Zahlen gibt es weitere Operationen, die auf die Binärdarstellung bezogen sind: Das binäre 'und' &, 'oder' |\n",
    "und binäre Shifts <<, >>, siehe Skript. Hier soll nicht weiter darauf eingegangen werden.\n",
    "             \n",
    "\n"
   ]
  },
  {
   "cell_type": "code",
   "execution_count": null,
   "metadata": {},
   "outputs": [],
   "source": [
    "hoehe = 10\n",
    "grundflaeche = 2.5\n",
    "volumen = 1/3*hoehe*grundflaeche\n",
    "print(volumen)"
   ]
  },
  {
   "cell_type": "markdown",
   "metadata": {},
   "source": [
    "** Achtung: ** In Python 2.7 ist das Ergebnis 0, wie oben erklärt wird. Dieses Verhalten  führt aber **immer wieder** zu Programmierfehlern. Deswegen empfehle ich, an den **Beginn aller Programme** den oben erwähnten Import zu stellen:\n",
    "\n",
    "    from __future__ import division ,\n",
    "    \n",
    " der dazu führt, dass Divisionen ganzer Zahlen einen float-Typ liefern.\n",
    " \n",
    "## Code für Python 2 und Python 3 schreiben \n",
    " \n",
    "An dieser Stelle seien die drei Importe zusammengefasst, mit denen Ihr in Python 2 dafür sorgen könnt, dass sich Division, Input und Print so wie in Python 3 verhalten.\n",
    "\n",
    "Damit könnt ihr Code schreiben, der in den meisten Fällen in beiden Python-Versionen läuft. Die anderen Unterschiede der Python-Versionen spielen erst bei weiterführenden Themen eine Rolle.\n",
    "\n",
    "\n",
    "    from __future__ import division\n",
    "    from __future__ import print_function\n",
    "    from future.builtins import input\n",
    "\n",
    "Ich gebe aber dazu keine Empfehlung ab. Ihr könnt ihr entscheiden, ob ihr es so haltet oder nicht."
   ]
  },
  {
   "cell_type": "code",
   "execution_count": null,
   "metadata": {},
   "outputs": [],
   "source": [
    "hoehe = 10\n",
    "grundflaeche = 2.5\n",
    "volumen = 1/3*hoehe*grundflaeche\n",
    "print(volumen)"
   ]
  },
  {
   "cell_type": "code",
   "execution_count": null,
   "metadata": {},
   "outputs": [],
   "source": [
    "2**10"
   ]
  },
  {
   "cell_type": "code",
   "execution_count": null,
   "metadata": {},
   "outputs": [],
   "source": [
    "2**10000"
   ]
  },
  {
   "cell_type": "code",
   "execution_count": null,
   "metadata": {},
   "outputs": [],
   "source": [
    "13//5"
   ]
  },
  {
   "cell_type": "code",
   "execution_count": null,
   "metadata": {},
   "outputs": [],
   "source": [
    "13 % 5"
   ]
  },
  {
   "cell_type": "code",
   "execution_count": null,
   "metadata": {},
   "outputs": [],
   "source": [
    "12321321321312 % 7"
   ]
  },
  {
   "cell_type": "markdown",
   "metadata": {},
   "source": [
    "Weitere eingebaute Funktionen:\n",
    "\n",
    "`abs, max, min`"
   ]
  },
  {
   "cell_type": "code",
   "execution_count": null,
   "metadata": {},
   "outputs": [],
   "source": []
  },
  {
   "cell_type": "code",
   "execution_count": null,
   "metadata": {},
   "outputs": [],
   "source": [
    "abs(-3)"
   ]
  },
  {
   "cell_type": "code",
   "execution_count": null,
   "metadata": {},
   "outputs": [],
   "source": [
    "abs(1+1j)"
   ]
  },
  {
   "cell_type": "code",
   "execution_count": null,
   "metadata": {},
   "outputs": [],
   "source": [
    "max(1, 2, 4, 2)"
   ]
  },
  {
   "cell_type": "code",
   "execution_count": null,
   "metadata": {},
   "outputs": [],
   "source": [
    "min(1, 2, -1, 5)"
   ]
  },
  {
   "cell_type": "code",
   "execution_count": null,
   "metadata": {},
   "outputs": [],
   "source": [
    "max(1+1j, 2+2j)"
   ]
  },
  {
   "cell_type": "markdown",
   "metadata": {},
   "source": [
    "Es gibt  Funktionen zur Typumwandlung `float( ... )`, `int(    )`, `complex( ... )`, die meistens so heißen wie der Typ."
   ]
  },
  {
   "cell_type": "code",
   "execution_count": null,
   "metadata": {},
   "outputs": [],
   "source": [
    "float(1)"
   ]
  },
  {
   "cell_type": "code",
   "execution_count": null,
   "metadata": {},
   "outputs": [],
   "source": [
    "int(3.12312312)"
   ]
  },
  {
   "cell_type": "code",
   "execution_count": null,
   "metadata": {},
   "outputs": [],
   "source": [
    "int(-3.1231)"
   ]
  },
  {
   "cell_type": "code",
   "execution_count": null,
   "metadata": {},
   "outputs": [],
   "source": [
    "complex(213.2)"
   ]
  },
  {
   "cell_type": "markdown",
   "metadata": {},
   "source": [
    "Unter diesen Typ-Umwandlungen geht nur bei int(...) Information verloren, wenn das Argument ein `float` ist.  `int(...)` lässt einfach die Nachkommastellen weg. Oft aber will man ein anderes Verhalten, abrunden oder aufrunden oder aber zur nächsten ganzen Zahl runden.  \n",
    "\n",
    "Die eingebaute Funktion `round` rundet ein `float` zur nächsten ganzen Zahl, das Ergebnis ist in Python 2 ein `float`, in Python 3 ein `int`:\n",
    "\n"
   ]
  },
  {
   "cell_type": "code",
   "execution_count": null,
   "metadata": {},
   "outputs": [],
   "source": [
    "round(3.1)"
   ]
  },
  {
   "cell_type": "code",
   "execution_count": null,
   "metadata": {},
   "outputs": [],
   "source": [
    "round(3.7)"
   ]
  },
  {
   "cell_type": "code",
   "execution_count": null,
   "metadata": {},
   "outputs": [],
   "source": [
    "int(round(3.7))"
   ]
  },
  {
   "cell_type": "markdown",
   "metadata": {},
   "source": [
    "Exkurs: Fehler\n",
    "----------------\n",
    "\n",
    "Was ein wohlgeformter Python-Ausdruck ist, beschreibt die **Syntax von Python.** Wenn etwas nicht wohlgeformt ist, kann es nicht interpretiert werden, es wird ein 'SyntaxError' gemeldet.  Ein syntaktisch falscher Ausdruck ist so etwas wie ein ungrammatischer Satz (der weder falsch noch wahr sein kann, weil er schlicht unsinnig ist.)\n",
    "\n",
    "    Wie gestern das rufe haben Braut Laub der Sägen Katzenfutter wenn.\n",
    "    \n",
    "Andere Fehler treten erst nach dem Interpretieren auf, während das Programm läuft. (Das wäre so etwas wie ein wohlgeformter deutscher Satz, der aus inhaltlichen Gründen unsinnig ist, oder eine Aufforderung, der man gar nicht nachkommen kann.)"
   ]
  },
  {
   "cell_type": "code",
   "execution_count": null,
   "metadata": {},
   "outputs": [],
   "source": [
    "2/3 23"
   ]
  },
  {
   "cell_type": "code",
   "execution_count": null,
   "metadata": {},
   "outputs": [],
   "source": [
    "2/0"
   ]
  },
  {
   "cell_type": "code",
   "execution_count": null,
   "metadata": {},
   "outputs": [],
   "source": [
    "min(1+1j, 2+3j)"
   ]
  },
  {
   "cell_type": "markdown",
   "metadata": {},
   "source": [
    "Noch mehr Rechnen\n",
    "-------------------\n",
    "\n",
    "Mathematische Funktionen könnten mit Hilfe der Grundrechenarten programmiert werden, es ist aber einfacher, praktischer und meistens schneller, vorprogrammierte Funktionen aus so genannten **Modulen** zu benutzen.\n",
    "\n",
    "Python kommt mit einer großen Standardbibliothek, in der bereits viele nützliche Module enthalten sind. Darüber hinaus gibt es eine Community, die für die verschiedensten Gebiete weitere externe Module entwickelt und pflegt (Linguistik, Numerik, Astronomie, Spiele,...).\n",
    "\n",
    "In der Standardbibliothek stellt das Modul `math` Funktionen und Konstanten zur Verfügung.\n",
    "\n",
    "Noch viel mehr mathematische Funktionen gibt es in den externen Modulen `numpy` und `scipy`.\n",
    "\n",
    "Um diese Module zu benutzen, muss man sie **importieren**. Dafür gibt es verschiedene Methoden:\n",
    "\n",
    "    from math import *\n",
    "    \n",
    "Dies ist die einfachste, aber manchmal gefährliche Methode.  Sie bedeutet, dass alle in dem Modul `math` definierten Namen von Variablen, Konstanten, Funktionen, Klassen nun direkt benutzt werden können (z.B. `sin, cos, exp, log, tan,...`). Sie sind jetzt im **Namensraum' (name space)** des Programms.  Das heißt aber auch, dass eine vor dem Import definierte Variable durch den Import überschrieben werden kann. \n",
    "\n",
    "Übersichtlicher wird diese Form des Imports, wenn nur bestimmte Objekte importiert werden:\n",
    "\n",
    "    from math impor sin, cos\n",
    "    \n",
    "importiert nur die beiden Funktionen `sin` und `cos`.\n",
    "\n",
    "Grundsätzlich sicherer ist die folgende Form des Imports:\n",
    "\n",
    "    import math \n",
    "    \n",
    "Danach sind alle Namen nur sozusagen über ihren 'Vornamen' `math` benutzbar, also etwa `math.sin, math.cos. math.exp, math.log,...`.\n",
    "\n",
    "Die dritte Variante erlaubt, einen alternativen ('aka') 'Vornamen' zu verwenden:\n",
    "\n",
    "    import math as m\n",
    "    \n",
    "Danach sind alle Funktionen mit dem alternativen Vornamen erreichbar, also `m.sin, m.cos, m.exp`.\n",
    "\n",
    "Korrekter als von Namen mit einem 'Vornamen' wäre  von Namen in einem  **Namensraum** zu sprechen.\n",
    "\n",
    "### 1. Form des Imports:"
   ]
  },
  {
   "cell_type": "code",
   "execution_count": null,
   "metadata": {},
   "outputs": [],
   "source": [
    "from math import *"
   ]
  },
  {
   "cell_type": "code",
   "execution_count": null,
   "metadata": {},
   "outputs": [],
   "source": [
    "pi, e"
   ]
  },
  {
   "cell_type": "code",
   "execution_count": null,
   "metadata": {},
   "outputs": [],
   "source": [
    "sin(pi)"
   ]
  },
  {
   "cell_type": "code",
   "execution_count": null,
   "metadata": {},
   "outputs": [],
   "source": [
    "# Achtung, man kann die importierten Variablen und Funktionen überschreiben\n",
    "\n",
    "pi = 3"
   ]
  },
  {
   "cell_type": "code",
   "execution_count": null,
   "metadata": {},
   "outputs": [],
   "source": [
    "pi"
   ]
  },
  {
   "cell_type": "markdown",
   "metadata": {},
   "source": [
    "###  Spezifische Importe\n",
    "\n",
    "Durch \n",
    "\n",
    "    from math import sin, pi, acos\n",
    "    \n",
    "werden genau diese Funktionen aus dem Modul math geladen, es besteht aber nicht die Gefahr, aus Versehen etwas zu überschreiben.'"
   ]
  },
  {
   "cell_type": "code",
   "execution_count": null,
   "metadata": {},
   "outputs": [],
   "source": [
    "from math import sin, pi, acos"
   ]
  },
  {
   "cell_type": "markdown",
   "metadata": {},
   "source": [
    "### 2. Form des Imports"
   ]
  },
  {
   "cell_type": "code",
   "execution_count": null,
   "metadata": {},
   "outputs": [],
   "source": [
    "import math"
   ]
  },
  {
   "cell_type": "code",
   "execution_count": null,
   "metadata": {},
   "outputs": [],
   "source": [
    "math.pi"
   ]
  },
  {
   "cell_type": "code",
   "execution_count": null,
   "metadata": {},
   "outputs": [],
   "source": [
    "math.cos(math.pi)"
   ]
  },
  {
   "cell_type": "markdown",
   "metadata": {},
   "source": [
    "###  3. Form des Imports"
   ]
  },
  {
   "cell_type": "code",
   "execution_count": null,
   "metadata": {},
   "outputs": [],
   "source": [
    "import math as m"
   ]
  },
  {
   "cell_type": "code",
   "execution_count": null,
   "metadata": {},
   "outputs": [],
   "source": [
    "m.cos(23\n",
    "      )"
   ]
  },
  {
   "cell_type": "code",
   "execution_count": null,
   "metadata": {},
   "outputs": [],
   "source": [
    "m.e"
   ]
  },
  {
   "cell_type": "code",
   "execution_count": null,
   "metadata": {},
   "outputs": [],
   "source": [
    "import numpy as np"
   ]
  },
  {
   "cell_type": "code",
   "execution_count": null,
   "metadata": {},
   "outputs": [],
   "source": [
    "np.pi-m.pi"
   ]
  },
  {
   "cell_type": "code",
   "execution_count": null,
   "metadata": {},
   "outputs": [],
   "source": [
    "np.sin(np.pi), m.sin(m.pi)"
   ]
  },
  {
   "cell_type": "code",
   "execution_count": null,
   "metadata": {},
   "outputs": [],
   "source": [
    "np.sin(np.pi)-m.sin(m.pi)"
   ]
  },
  {
   "cell_type": "markdown",
   "metadata": {},
   "source": [
    "## Inhalt des Moduls math"
   ]
  },
  {
   "cell_type": "code",
   "execution_count": null,
   "metadata": {},
   "outputs": [],
   "source": [
    "help(math)"
   ]
  },
  {
   "cell_type": "markdown",
   "metadata": {},
   "source": [
    "Durch `help(...)` können sie Informationen über Python-Objekte bekommen (eingebaute Funktionen, importierte Module, Funktionen, Variablen.  Vermeiden Sie es, `help(np)` einzugeben, es kommt zu viel Information in einem ungünstigen Format.\n",
    "\n",
    "Für so umfangreiche Module, ist es viel besser, sich die Online-Dokumentation anzusehen, etwa für Numpy und Scipy:\n",
    "\n",
    "http://docs.scipy.org\n",
    "\n",
    "## Achtung\n",
    "\n",
    "Achten Sie darauf, sich die Dokumentation für die richtige Version des importierten Moduls anzusehen. Die Module werden ständig weiterentwickelt, und manchmal ändern sich die Definitionen. Die Version bekommen Sie so:\n",
    "\n"
   ]
  },
  {
   "cell_type": "code",
   "execution_count": null,
   "metadata": {},
   "outputs": [],
   "source": [
    "np.__version__"
   ]
  },
  {
   "cell_type": "markdown",
   "metadata": {},
   "source": [
    "**Aufgabe: ** Verwenden Sie die Funktionen des Moduls `math`, um herauszubekommen, wieviele Dezimalstellen 2\\*\\*10000 hat. (Zählen taugt nicht so gut, wie Sie sehen werden.)"
   ]
  },
  {
   "cell_type": "markdown",
   "metadata": {},
   "source": [
    "Wahrheitswerte (Typ bool)\n",
    "-----------------------\n",
    "\n",
    "Der Datentyp `bool` hat die Besonderheit, nur zwei Werte, nämlich `True` und  `False` zuzulassen.  **Beachten Sie die Großbuchstaben; bei vielen anderen Programmiersprachen sind es Kleinbuchstaben.**\n",
    "\n",
    "Für Wahrheitswerte sind die *Rechenoperationen* die logischen Operationen: `and`, `or`, `not`. Man spricht in diesem Zusammenhang von einer Bool'schen Algebra.  Es gibt für `and` und `or` zwei Distributivgesetze, und für den Zusammenhang zwischen `not` und `und`, bzw. `or` die de Morgan'schen Regeln.\n",
    "\n",
    "Sie können Klammern verwenden, um die Reihenfolge der Operationen festzulegen.\n",
    "\n",
    "Das logische `und` muss nicht erklärt werden, das logische `oder` kann aber zu Missverständnissen führen: Es schließt den Fall, dass beide Seiten wahr sind, mit ein, ist also kein 'entweder ... oder'.\n",
    "\n",
    "Andere Typen lassen sich auch in `bool` umwandeln. Dabei ergeben 0 oder 0.0 oder der leere String `False`, andere  Zahlen oder Strings `True`.\n"
   ]
  },
  {
   "cell_type": "code",
   "execution_count": null,
   "metadata": {},
   "outputs": [],
   "source": [
    "a = True\n",
    "b = False"
   ]
  },
  {
   "cell_type": "code",
   "execution_count": null,
   "metadata": {},
   "outputs": [],
   "source": [
    "not not a"
   ]
  },
  {
   "cell_type": "code",
   "execution_count": null,
   "metadata": {},
   "outputs": [],
   "source": [
    "a or not a"
   ]
  },
  {
   "cell_type": "code",
   "execution_count": null,
   "metadata": {},
   "outputs": [],
   "source": [
    "False and True"
   ]
  },
  {
   "cell_type": "code",
   "execution_count": null,
   "metadata": {},
   "outputs": [],
   "source": [
    "False or (True and False)"
   ]
  },
  {
   "cell_type": "code",
   "execution_count": null,
   "metadata": {},
   "outputs": [],
   "source": [
    "bool(1.32423)"
   ]
  },
  {
   "cell_type": "code",
   "execution_count": null,
   "metadata": {},
   "outputs": [],
   "source": [
    "bool(0)"
   ]
  },
  {
   "cell_type": "code",
   "execution_count": null,
   "metadata": {},
   "outputs": [],
   "source": [
    "bool(0.0)"
   ]
  },
  {
   "cell_type": "code",
   "execution_count": null,
   "metadata": {},
   "outputs": [],
   "source": [
    "bool('')"
   ]
  },
  {
   "cell_type": "code",
   "execution_count": null,
   "metadata": {},
   "outputs": [],
   "source": [
    "bool('Katze')"
   ]
  },
  {
   "cell_type": "markdown",
   "metadata": {},
   "source": [
    "Vergleiche\n",
    "-----------\n",
    "\n",
    "Durch `==` prüfen Sie, ob zwei Werte gleich sind, das Ergebnis ist `True`, wenn sie es sind, sonst `False`.\n",
    "**Achtung: Hier stehen zwei Gleichheitszeichen! Ein Gleichheitszeichen wird nur Zuweisungen von Variablen verwendet.**\n"
   ]
  },
  {
   "cell_type": "code",
   "execution_count": null,
   "metadata": {},
   "outputs": [],
   "source": [
    "2 == 2.0"
   ]
  },
  {
   "cell_type": "markdown",
   "metadata": {},
   "source": [
    "Sie sehen also: Werte können gleich sein, selbst wenn die Typen verschieden sind.\n",
    "\n",
    "Durch `is` wird dagegen überprüft, ob es sich bei zwei Objekten um dasselbe Objekt handelt. Das wird später noch eine größere Rolle spielen."
   ]
  },
  {
   "cell_type": "code",
   "execution_count": null,
   "metadata": {},
   "outputs": [],
   "source": [
    "2 is 2.0"
   ]
  },
  {
   "cell_type": "code",
   "execution_count": null,
   "metadata": {},
   "outputs": [],
   "source": [
    "a = 2\n",
    "b = 2\n",
    "print(a is b)"
   ]
  },
  {
   "cell_type": "markdown",
   "metadata": {
    "collapsed": true
   },
   "source": [
    "Ungleichheit wird durch != überprüft; Sie können aber auch not(... == ...) verwenden.\n",
    "\n",
    "Ansonsten kennt Python auch <, > , <=, >= und Ketten von solchen Ausdrücken, die zu interpretieren sind als die Verbindung der Ausdrücke durch `and`."
   ]
  },
  {
   "cell_type": "code",
   "execution_count": null,
   "metadata": {},
   "outputs": [],
   "source": [
    "a = 1\n",
    "b = 4\n",
    "c = 2\n",
    "print(a <= b <= c)"
   ]
  },
  {
   "cell_type": "code",
   "execution_count": null,
   "metadata": {},
   "outputs": [],
   "source": [
    "print(a <= c <= b)"
   ]
  },
  {
   "cell_type": "code",
   "execution_count": null,
   "metadata": {},
   "outputs": [],
   "source": [
    "print(a <= b >= c)  # in der Mathematik macht man das so nicht"
   ]
  },
  {
   "cell_type": "markdown",
   "metadata": {},
   "source": [
    "Für Strings sind ebenfalls alle diese Vergleichsoperatoren definiert. Dabei beziehen  sich '<','>','<=','>=' auf die lexikalische Ordnung. (Dieses Verhalten lässt sich ändern.)"
   ]
  },
  {
   "cell_type": "code",
   "execution_count": null,
   "metadata": {},
   "outputs": [],
   "source": [
    "a = 'Apfel'\n",
    "b = 'Apfelkuchen'\n",
    "c = 'Birne'\n",
    "print(a < a)\n",
    "print(a <= a)\n",
    "print(a < b)\n",
    "print(b < c)"
   ]
  },
  {
   "cell_type": "code",
   "execution_count": null,
   "metadata": {},
   "outputs": [],
   "source": [
    "d = 'Apfel'\n",
    "print(a == d)"
   ]
  },
  {
   "cell_type": "code",
   "execution_count": null,
   "metadata": {},
   "outputs": [],
   "source": [
    "print(a is d)"
   ]
  },
  {
   "cell_type": "code",
   "execution_count": null,
   "metadata": {},
   "outputs": [],
   "source": []
  },
  {
   "cell_type": "code",
   "execution_count": null,
   "metadata": {},
   "outputs": [],
   "source": []
  },
  {
   "cell_type": "code",
   "execution_count": null,
   "metadata": {},
   "outputs": [],
   "source": [
    "s = input('katze? ')"
   ]
  },
  {
   "cell_type": "code",
   "execution_count": null,
   "metadata": {},
   "outputs": [],
   "source": [
    "213*213213"
   ]
  },
  {
   "cell_type": "code",
   "execution_count": null,
   "metadata": {},
   "outputs": [],
   "source": []
  },
  {
   "cell_type": "code",
   "execution_count": null,
   "metadata": {},
   "outputs": [],
   "source": []
  },
  {
   "cell_type": "code",
   "execution_count": null,
   "metadata": {},
   "outputs": [],
   "source": []
  },
  {
   "cell_type": "code",
   "execution_count": null,
   "metadata": {},
   "outputs": [],
   "source": []
  }
 ],
 "metadata": {
  "kernelspec": {
   "display_name": "Python 3",
   "language": "python",
   "name": "python3"
  },
  "language_info": {
   "codemirror_mode": {
    "name": "ipython",
    "version": 3
   },
   "file_extension": ".py",
   "mimetype": "text/x-python",
   "name": "python",
   "nbconvert_exporter": "python",
   "pygments_lexer": "ipython3",
   "version": "3.8.2"
  },
  "latex_envs": {
   "bibliofile": "biblio.bib",
   "cite_by": "apalike",
   "current_citInitial": 1,
   "eqLabelWithNumbers": true,
   "eqNumInitial": 0
  }
 },
 "nbformat": 4,
 "nbformat_minor": 1
}
